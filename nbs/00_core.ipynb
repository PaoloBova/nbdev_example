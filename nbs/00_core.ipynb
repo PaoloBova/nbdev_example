{
 "cells": [
  {
   "cell_type": "markdown",
   "metadata": {},
   "source": [
    "# Cooperative Risk Dilemma\n",
    "\n",
    "> This is a module for defining a Cooperative Risk Dilemma game."
   ]
  },
  {
   "cell_type": "markdown",
   "metadata": {},
   "source": [
    "Note: I don't use classes much. Instead, I use python dictionaries as data structures and try to stick to a functional programming format similar to common LISP or Clojure."
   ]
  },
  {
   "cell_type": "code",
   "execution_count": null,
   "metadata": {},
   "outputs": [],
   "source": [
    "#| default_exp core"
   ]
  },
  {
   "cell_type": "code",
   "execution_count": null,
   "metadata": {},
   "outputs": [],
   "source": [
    "#| hide\n",
    "from nbdev.showdoc import *\n",
    "from fastcore.test import test_eq"
   ]
  },
  {
   "cell_type": "code",
   "execution_count": null,
   "metadata": {},
   "outputs": [],
   "source": [
    "#| hide\n",
    "import nbdev; nbdev.nbdev_export()"
   ]
  },
  {
   "cell_type": "code",
   "execution_count": null,
   "metadata": {},
   "outputs": [],
   "source": [
    "#| export\n",
    "def generate_game(game_type:str=\"crd\",\n",
    "                  config:dict={}):\n",
    "    if game_type==\"crd\":\n",
    "        game = {}\n",
    "        game['parameters'] = {}\n",
    "        game['parameters']['n'] = config.get('n', 2)\n",
    "        game['parameters']['b'] = config.get('b', 1)\n",
    "        game['parameters']['d'] = config.get('d', -10)\n",
    "        game['parameters']['pr'] = config.get('pr', 0.5)\n",
    "    else:\n",
    "        game = {}\n",
    "    return game"
   ]
  },
  {
   "cell_type": "markdown",
   "metadata": {},
   "source": [
    "Here are some tests for `generate_game()`\n",
    "\n",
    "Notice that the first two tests are equivalent, the latter uses the `test_eq` wrapper provided by fastcore."
   ]
  },
  {
   "cell_type": "code",
   "execution_count": null,
   "metadata": {},
   "outputs": [],
   "source": [
    "assert generate_game() == {'parameters': {'n': 2, 'b': 1, 'd': -10, 'pr':0.5}}\n",
    "test_eq(generate_game(), {'parameters': {'n': 2, 'b': 1, 'd': -10, 'pr':0.5}})"
   ]
  }
 ],
 "metadata": {
  "kernelspec": {
   "display_name": "Python 3 (ipykernel)",
   "language": "python",
   "name": "python3"
  }
 },
 "nbformat": 4,
 "nbformat_minor": 4
}
