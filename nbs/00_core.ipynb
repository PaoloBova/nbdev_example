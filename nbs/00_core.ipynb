{
 "cells": [
  {
   "cell_type": "markdown",
   "metadata": {},
   "source": [
    "# Collective-risk Dilemmas\n",
    "\n",
    "> This is a module for creating models of Collective-risk Dilemmas."
   ]
  },
  {
   "cell_type": "markdown",
   "metadata": {},
   "source": [
    "Note: I don't use classes much. Instead, I use python dictionaries as data structures and use a functional programming style similar to common LISP or Clojure."
   ]
  },
  {
   "cell_type": "code",
   "execution_count": null,
   "metadata": {},
   "outputs": [],
   "source": [
    "#| default_exp core"
   ]
  },
  {
   "cell_type": "code",
   "execution_count": null,
   "metadata": {},
   "outputs": [],
   "source": [
    "#| hide\n",
    "from nbdev.showdoc import *\n",
    "from fastcore.test import test_eq"
   ]
  },
  {
   "cell_type": "code",
   "execution_count": null,
   "metadata": {},
   "outputs": [],
   "source": [
    "#| hide\n",
    "import nbdev; nbdev.nbdev_export()"
   ]
  },
  {
   "cell_type": "markdown",
   "metadata": {},
   "source": [
    "A Collective-risk dilemma (CRD) is a game which captures a situation where a disaster may occur should players fail to collectively attain sufficiently high contributions from the players. Contributions are costly, so there is an incentive to refuse to contribute and free-ride on the contributions of others. "
   ]
  },
  {
   "cell_type": "code",
   "execution_count": null,
   "metadata": {},
   "outputs": [],
   "source": [
    "def payoffs_crd(config:dict={}):\n",
    "    payoffs = E_i - C_i\n",
    "    return payoffs"
   ]
  },
  {
   "cell_type": "markdown",
   "metadata": {},
   "source": [
    "The Collective-risk dilemma posed by (Domingos et al (2019))[10.1016/j.simpat.2021.102299] introduces additional considerations:\n",
    "- 1. Timing uncertainty: the dilemma may have a non-zero chance in each round of remaining unresolved. The same dilemma plays out for another round if so (the authors presuppose that players do not discount the value of future rounds).\n",
    "- 2. Impact uncertainty: there is a non-zero chance of a disaster if contributions are too low. Also, the damage caused by the disaster could have a relatively large margin for error.\n",
    "- 3. Threshold uncertainty: there is uncertainty over how high total contributiosn need to be to avoid disaster."
   ]
  },
  {
   "cell_type": "code",
   "execution_count": null,
   "metadata": {},
   "outputs": [],
   "source": [
    "#| export\n",
    "def generate_crd(config:dict={}):\n",
    "    \"Generate a model of a Collective-risk dilemma, using any specifed config options.\"\n",
    "    game = {}\n",
    "    game['parameters'] = {}\n",
    "    game['parameters']['n'] = config.get('n', 2)\n",
    "    game['parameters']['b'] = config.get('b', 1)\n",
    "    game['parameters']['d'] = config.get('d', -10)\n",
    "    game['parameters']['pr'] = config.get('pr', 0.5)\n",
    "    return game"
   ]
  },
  {
   "cell_type": "markdown",
   "metadata": {},
   "source": [
    "Here are some tests for `generate_crd()`.\n",
    "\n",
    "Notice that the first two tests are equivalent, the latter uses the `test_eq` wrapper provided by fastcore."
   ]
  },
  {
   "cell_type": "code",
   "execution_count": null,
   "metadata": {},
   "outputs": [],
   "source": [
    "assert generate_crd() == {'parameters': {'n': 2, 'b': 1, 'd': -10, 'pr':0.5}}\n",
    "test_eq(generate_crd(), {'parameters': {'n': 2, 'b': 1, 'd': -10, 'pr':0.5}})"
   ]
  },
  {
   "cell_type": "markdown",
   "metadata": {},
   "source": [
    "## Solution Methods from Game Theory"
   ]
  },
  {
   "cell_type": "markdown",
   "metadata": {},
   "source": [
    "How will players act in a Collective-risk Dilemma?\n",
    "\n",
    "There are many formal methods for specifying how players choose to behave in a game. \n",
    "- Classical Game Theory largely focuses on the non-cooperative solution concept of a Nash Equilibrium, where no one can do better by deviating unilaterally from their current behavior. \n",
    "- Evolutionary Game Theory considers the distribution of actions players take in the limit of rare mutations. \n",
    "- Cooperative Game Theory focuses on finding fair ways to allocate the benefits the interaction. \n",
    "- Reinforcement Learning and methods such as Experience-weighted attraction consider how players act as they learn about the game."
   ]
  },
  {
   "cell_type": "markdown",
   "metadata": {},
   "source": [
    "Here, we will focus on Reinforcement Learning.\n",
    "\n",
    "You can find a treatment of other methods in the relevant textbooks: \n",
    "TBC"
   ]
  },
  {
   "cell_type": "code",
   "execution_count": null,
   "metadata": {},
   "outputs": [],
   "source": []
  },
  {
   "cell_type": "code",
   "execution_count": null,
   "metadata": {},
   "outputs": [],
   "source": []
  }
 ],
 "metadata": {
  "kernelspec": {
   "display_name": "Python 3 (ipykernel)",
   "language": "python",
   "name": "python3"
  }
 },
 "nbformat": 4,
 "nbformat_minor": 4
}
