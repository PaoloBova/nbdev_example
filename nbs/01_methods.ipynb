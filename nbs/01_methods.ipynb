{
 "cells": [
  {
   "cell_type": "code",
   "execution_count": null,
   "id": "3275141f-78f8-43c7-8a4f-7517dee6f284",
   "metadata": {},
   "outputs": [],
   "source": [
    "#| default_exp toolbox"
   ]
  },
  {
   "cell_type": "markdown",
   "id": "e3c06847-fe93-4fc5-9b91-30f92cc69f3c",
   "metadata": {},
   "source": [
    "# Methods in Evolutionary Game Theory\n",
    "\n",
    "> A set of methods for solving Evolutionary Games (see Nowak 2006 and the references section)"
   ]
  },
  {
   "cell_type": "markdown",
   "id": "1d54b9ab-8d01-4925-90df-062b903f5919",
   "metadata": {},
   "source": [
    "## Utilities"
   ]
  },
  {
   "cell_type": "code",
   "execution_count": null,
   "id": "c5f7b9cd-420a-4006-882f-731859c8b4f7",
   "metadata": {},
   "outputs": [],
   "source": [
    "def thread_macro(current_value, *funcs, identifier=\"self\"):\n",
    "    \"\"\"Pipes current_value through each function in funcs.\n",
    "\n",
    "    Each element in funcs is either a function or a list/tuple containing\n",
    "    a function followed by its other arguments.\n",
    "    This function imitates the Clojure as-if threading macro.\n",
    "\n",
    "    Notes: By default current_value is threaded as the first argument of the\n",
    "    function call. Yet, one can use the syntax [func, arg1, \"self\", arg2] (or\n",
    "    (func, arg1, \"self\", arg2)) so that current_value will instead be threaded\n",
    "    in whatever place \"self\" would be. If you need to, you can set this \"self\"\n",
    "    identifier to a different value.\n",
    "    \"\"\"\n",
    "\n",
    "    for func in funcs:\n",
    "        if isinstance(func, (list, tuple)):\n",
    "            place = 0\n",
    "            for i, el in enumerate(func[1:]):\n",
    "                if el == identifier:\n",
    "                    place = i\n",
    "                    func = [el for el in func if el != identifier]\n",
    "            func, args1, args2 = func[0], func[1:place + 1], func[place + 1:]\n",
    "            current_value = func(*args1, current_value, *args2)\n",
    "        else:\n",
    "            current_value = func(current_value)\n",
    "    return current_value"
   ]
  },
  {
   "cell_type": "code",
   "execution_count": null,
   "id": "f68f27db-0e9d-4be3-8f39-0384700104b3",
   "metadata": {},
   "outputs": [],
   "source": [
    "def broadcast_concatenate_axes(ax1, ax2):\n",
    "    \"\"\"Broadcast both numpy axes and concatenate along last dimension\"\"\"\n",
    "    ax1new = ax1\n",
    "    for _ in range(np.ndim(ax2) - 1):\n",
    "        ax1new = ax1new[..., None, :]\n",
    "    ax2new = ax2\n",
    "    for _ in range(np.ndim(ax1) - 1):\n",
    "        ax2new = ax2new[None, ..., :]\n",
    "    ax1new = np.broadcast_to(ax1new,\n",
    "                             (*ax1.shape[:-1], *ax2.shape[:-1], ax1.shape[-1]))\n",
    "    ax2new = np.broadcast_to(ax2new,\n",
    "                             (*ax1.shape[:-1], *ax2.shape[:-1], ax2.shape[-1]))\n",
    "    ax = np.concatenate((ax1new, ax2new), axis=-1)\n",
    "    return ax"
   ]
  },
  {
   "cell_type": "code",
   "execution_count": null,
   "id": "5c43e2d9-6293-4979-892d-24c0b76b05bd",
   "metadata": {},
   "outputs": [],
   "source": [
    "def build_parameter_grid_from_axes(axes):\n",
    "    \"\"\"Build a numpy array with all combinations of elements specified in axes.\n",
    "\n",
    "    Each axis in axes gives an array of values that should be repeated for each\n",
    "    value in the other axes. Primitive types and lists of primitive types are\n",
    "    first promoted to numpy arrays.\n",
    "    \"\"\"\n",
    "\n",
    "    dtypes = (float, int, bool, str)\n",
    "    for i, axis in enumerate(axes):\n",
    "        condition = isinstance(axis, dtypes) or all(\n",
    "            isinstance(el, dtypes) for el in list(axis))\n",
    "        axes[i] = np.array([axis]).T if condition else axis\n",
    "    tensor = functools.reduce(broadcast_concatenate_axes, axes)\n",
    "    return tensor.reshape((-1, tensor.shape[-1]))"
   ]
  },
  {
   "cell_type": "markdown",
   "id": "b66e4126-c29d-41e8-bce9-54dcabbc63ba",
   "metadata": {},
   "source": [
    "## Finite Markov Chains"
   ]
  },
  {
   "cell_type": "markdown",
   "id": "4e8f91a3-f1d3-4ad5-a574-3ab583f1edf5",
   "metadata": {},
   "source": [
    "We examine a finite population of players using different strategies who engage in social learning.\n",
    "\n",
    "In the limit of small mutations, most of the time everyone plays the same strategy. States in which everyone plays the same strategy are known as **monomorphic states**. Occassionally, mutant strategies can fixate in the population, resulting in everyone adopting the same new strategy. We can use Markov Chains to analyse the relative frequencies with which each strategy is played by the population.\n",
    "\n",
    "The steps for computing the ergodic (i.e. long-run) strategy distribution is as follows:\n",
    "\n",
    "1. Build a transition matrix between all monomorphic states\n",
    "2. Find the unit eigenvector associated with this transition matrix"
   ]
  },
  {
   "cell_type": "code",
   "execution_count": null,
   "id": "525269fc-1afe-4e7b-9e72-c7f6f6596cef",
   "metadata": {},
   "outputs": [],
   "source": [
    "def build_transition_matrix(models):\n",
    "    \"\"\"Build a transition matrix between all monomorphic states\n",
    "    using the fermi social learning rule for each model.\"\"\"\n",
    "    \n",
    "    Z, S, W, β = [models[k] for k in ['Z','strategy_set', 'W', 'β']]\n",
    "    π = models['payoffs']\n",
    "    M = np.zeros(( W.shape[0], len(S), len(S)))\n",
    "    for row_ind, s in enumerate(S):\n",
    "        for col_ind, sₒ in enumerate(S):\n",
    "            if row_ind == col_ind:\n",
    "                continue\n",
    "            πAA = π[:, row_ind, row_ind][:, None, None]\n",
    "            πAB = π[:, row_ind, col_ind][:, None, None]\n",
    "            πBA = π[:, col_ind, row_ind][:, None, None]\n",
    "            πBB = π[:, col_ind, col_ind][:, None, None]\n",
    "            ΠA = [πAA*(k-1)/Z + πAB*(Z-k)/Z\n",
    "                  for k in range(Z+1)]\n",
    "            ΠB = [πBA*k/Z + πBB*(Z-k-1)/Z\n",
    "                  for k in range(Z+1)]\n",
    "            Tplus = [(Z - k)/Z\n",
    "                     * k/Z\n",
    "                     * (1 + np.exp(-β*(ΠA[k] - ΠB[k])))**-1 \n",
    "                     for k in range(Z+1)]\n",
    "            Tneg = [(Z - k)/Z\n",
    "                    * k/Z\n",
    "                    * (1 + np.exp(β*(ΠA[k] - ΠB[k])))**-1\n",
    "                    for k in range(Z+1)]\n",
    "            ρ = (1 \n",
    "                 + np.sum([np.prod([Tneg[j]/Tplus[j]\n",
    "                                    for j in range(1,i+1)],\n",
    "                                   axis=0)\n",
    "                           for i in range(1,Z)], axis=0))**-1\n",
    "            M[:, col_ind, row_ind] = ρ[:,0,0]/(len(S)-1)\n",
    "    for row_ind in range(len(S)):\n",
    "        col_inds = [i for i in range(len(S)) if i != row_ind]\n",
    "        no_move = 1 - np.sum(M[:, row_ind, col_inds], axis=1)\n",
    "        M[:, row_ind, row_ind] = no_move\n",
    "    return {**models, \"transition_matrix\": M}"
   ]
  },
  {
   "cell_type": "code",
   "execution_count": null,
   "id": "f8c98786-9d06-4471-b322-a90e521e6fa7",
   "metadata": {},
   "outputs": [],
   "source": [
    "def find_ergodic_distribution(models):\n",
    "    \"\"\"Find the ergodic distribution of a markov chain with the\n",
    "    given transition matrix.\"\"\"\n",
    "    \n",
    "    M = models.get(\"transition_matrix\", np.zeros((1, 1, 1)))\n",
    "    # find unit eigenvector of markov chain\n",
    "    Λ,V = np.linalg.eig(M.transpose(0,2,1))\n",
    "    x = np.isclose(Λ, 1)\n",
    "    # if multiple unit eigenvalues then choose the first\n",
    "    y = np.zeros_like(x, dtype=bool)\n",
    "    idx = np.arange(len(x)), x.argmax(axis=1)\n",
    "    y[idx] = x[idx]\n",
    "    ergodic = np.array(V.transpose(0,2,1)[y], dtype=float)\n",
    "    # ensure ergodic frequencies are positive and sum to 1\n",
    "    ergodic = np.abs(ergodic) / np.sum(np.abs(ergodic), axis=1)[:, None]\n",
    "    return {**models, 'ergodic':ergodic}"
   ]
  },
  {
   "cell_type": "code",
   "execution_count": null,
   "id": "bfe4a9b3-6248-4f70-9694-820307de7b02",
   "metadata": {},
   "outputs": [],
   "source": [
    "def markov_chain(models):\n",
    "    \"\"\"Find the ergodic distribution of the evolutionary\n",
    "    game given by each model in models.\"\"\"\n",
    "    return thread_macro(models,\n",
    "                        build_transition_matrix,\n",
    "                        find_ergodic_distribution)"
   ]
  },
  {
   "cell_type": "markdown",
   "id": "ae550131-cc69-48ce-9285-e0bcd3c085dd",
   "metadata": {},
   "source": [
    "## TODO"
   ]
  },
  {
   "cell_type": "markdown",
   "id": "27ff8daa-ee92-48b5-96fa-79a46050d11a",
   "metadata": {},
   "source": [
    "- add unit tests for markov_chain\n",
    "- add integration tests for makov_chain\n",
    "- Split build_transition_matrix into more components and provide tests and documentation for each\n",
    "  - a fermi learning function\n",
    "  - a fixation rate equation\n",
    "- Move utilities to its own notebook or to its own package"
   ]
  },
  {
   "cell_type": "markdown",
   "id": "ffe120e0-e6dd-44b6-8b7c-32da28594642",
   "metadata": {},
   "source": [
    "[Tips on using Latex in Markdown](https://towardsdatascience.com/write-markdown-latex-in-the-jupyter-notebook-10985edb91fd)"
   ]
  },
  {
   "cell_type": "markdown",
   "id": "e881f80e-272a-4727-9a46-881e5b51e38f",
   "metadata": {},
   "source": [
    "### Fixation rate\n",
    "\n",
    "The fixation rate for type B in a population of type A is defined as the probability that the appearance of a mutant of type B leads to the entire population adopting type B instead of A, i.e. what is the likelihood that a mutant of type A invades population B.\n",
    "\n",
    "A derivation of the fixation rate defined above can be found in Nowak 2006 (reproduced below).\n",
    "\n",
    "> Consider a one-dimensional stochastic process on a discrete state space, $ i \\in \\{0, 1, \\cdots, N\\}$ that represents the number of individuals in a population of $N$ individuals who are of type $A$, the rest are type $B$.\n",
    ">\n",
    "> In each stochastic event, the number of individuals of type $A$ can at most increase or decrease by 1.\n",
    ">\n",
    "> For a given number of individuals, $i$, let $a_i$, $b_i$, and $1 - a_i - b_i$ represent the chance of an increase, decrease, or no change in $i$.\n",
    "> \n",
    "> This stochastic process follows the transition matrix ,$P$ (*not to be confused with the transition matrices we discuss elsewhere!*)\n",
    ">\n",
    ">\n",
    "> \\begin{equation}\n",
    "P \\, = \\, \\begin{pmatrix}\n",
    "1 & 0 & 0 & \\cdots & 0 & 0 & 0\\\\\n",
    "b_1 & (1 - a_1 - b_1) & a_1 & \\cdots & 0 & 0 & 0\\\\\n",
    "\\vdots & \\vdots & \\vdots & \\ddots & \\vdots & \\vdots & \\vdots\\\\\n",
    "0 & 0 & 0 & \\cdots & b_{n-1} & (1 - a_{n-1} - b_{n-1}) & a_{n-1}\\\\\n",
    "0 & 0 & 0 & \\cdots & 0 & 0 & 1\\\\\n",
    "\\end{pmatrix}\n",
    "\\end{equation}\n",
    ">\n",
    "> Denote by $x_i$ the probability of reaching state $N$ when starting from $i$.\n",
    ">\n",
    "> From transition matrix $P$ above, we can see that $x_i$ must satisfy:\n",
    ">\n",
    "> $ x_0 = 0 $\n",
    ">\n",
    "> $ x_i = b_i x_{i-1} + (1 - a_i - b_i) x_i + a_i x_{i+1}$\n",
    ">\n",
    "> $ x_N = 1 $\n",
    ">\n",
    "> The fixation rate for a mutant A in a population of type B is clearly $x_1$\n",
    ">\n",
    "> We can solve for $x_i$ by rewriting the above as $ b_i x_i - b_i  x_{i-1} = a_i x_{i+1} - a_i x_i $.\n",
    "> \n",
    "> We can denote $y_i = x_i - x_{i-1}$ to simplify the above to $ y_{i+1} = \\frac{b_i}{a_i} y_i$\n",
    ">\n",
    "> Notice that $\\sum_{i=1}^N{y_i} = x_N - x_0 = 1$ and that $y_1 = x_1$\n",
    ">\n",
    "> We can use the above to write\n",
    "\\begin{equation}\n",
    "x_1 + {\\sum_{i=2}^N{y_i}} = x_1 (1 + {\\sum_{i=1}^{N-1}{\\prod_{j=1}^{i} \\frac{b_j}{a_j}}}) = 1\n",
    "\\end{equation}\n",
    ">\n",
    "> And so\n",
    "\\begin{equation}\n",
    "x_1 = \\frac{1}{(1 + \\sum_{i=1}^{N-1}{\\prod_{j=1}^{i} \\frac{b_j}{a_j}})}\n",
    "\\end{equation}\n",
    ">\n",
    "> Note that $x_1$ is the fixation rate for a mutant $A$ in a population of type $B$\n",
    ">\n",
    "> *Also note that $x_{N-1}$ is the fixation rate for a mutant $B$ in a population of type $A$. We could find expressions for all $x_i$ if we note that $x_i = x_1 (1 + \\sum_{j=1}^{i-1}{\\prod_{k=1}^{j} \\frac{b_k}{a_k}})$ (see Nowak 2006 for further details).*"
   ]
  },
  {
   "cell_type": "code",
   "execution_count": null,
   "id": "fac44dfd-df5f-4d8d-ae91-fef26bb93e6c",
   "metadata": {},
   "outputs": [
    {
     "ename": "IndentationError",
     "evalue": "unexpected indent (946315720.py, line 3)",
     "output_type": "error",
     "traceback": [
      "\u001b[0;36m  Cell \u001b[0;32mIn [14], line 3\u001b[0;36m\u001b[0m\n\u001b[0;31m    ΠB = [πBA*k/Z + πBB*(Z-k-1)/Z\u001b[0m\n\u001b[0m    ^\u001b[0m\n\u001b[0;31mIndentationError\u001b[0m\u001b[0;31m:\u001b[0m unexpected indent\n"
     ]
    }
   ],
   "source": [
    "ΠA = [πAA*(k-1)/Z + πAB*(Z-k)/Z\n",
    "                  for k in range(Z+1)]\n",
    "            ΠB = [πBA*k/Z + πBB*(Z-k-1)/Z\n",
    "                  for k in range(Z+1)]\n",
    "            Tplus = [(Z - k)/Z\n",
    "                     * k/Z\n",
    "                     * (1 + np.exp(-β*(ΠA[k] - ΠB[k])))**-1 \n",
    "                     for k in range(Z+1)]\n",
    "            Tneg = [(Z - k)/Z\n",
    "                    * k/Z\n",
    "                    * (1 + np.exp(β*(ΠA[k] - ΠB[k])))**-1\n",
    "                    for k in range(Z+1)]\n",
    "            ρ = (1 \n",
    "                 + np.sum([np.prod([Tneg[j]/Tplus[j]\n",
    "                                    for j in range(1,i+1)],\n",
    "                                   axis=0)\n",
    "                           for i in range(1,Z)], axis=0))**-1"
   ]
  },
  {
   "cell_type": "code",
   "execution_count": null,
   "id": "412d6446-0df0-49a0-86b4-2874a33738aa",
   "metadata": {},
   "outputs": [],
   "source": []
  }
 ],
 "metadata": {
  "kernelspec": {
   "display_name": "Python 3 (ipykernel)",
   "language": "python",
   "name": "python3"
  }
 },
 "nbformat": 4,
 "nbformat_minor": 5
}
